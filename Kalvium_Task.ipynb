{
  "nbformat": 4,
  "nbformat_minor": 0,
  "metadata": {
    "colab": {
      "provenance": []
    },
    "kernelspec": {
      "name": "python3",
      "display_name": "Python 3"
    },
    "language_info": {
      "name": "python"
    }
  },
  "cells": [
    {
      "cell_type": "markdown",
      "source": [
        "##Step 1: Install Required Packages"
      ],
      "metadata": {
        "id": "0VFWPRQBWfs8"
      }
    },
    {
      "cell_type": "code",
      "source": [
        "!pip install flask flask-socketio pyngrok pdfminer.six"
      ],
      "metadata": {
        "colab": {
          "base_uri": "https://localhost:8080/"
        },
        "id": "KWSGc6ivFuqW",
        "outputId": "84774a59-6778-4a92-93d6-0e37e87b5c88"
      },
      "execution_count": 59,
      "outputs": [
        {
          "output_type": "stream",
          "name": "stdout",
          "text": [
            "Requirement already satisfied: flask in /usr/local/lib/python3.10/dist-packages (2.2.5)\n",
            "Requirement already satisfied: flask-socketio in /usr/local/lib/python3.10/dist-packages (5.4.1)\n",
            "Requirement already satisfied: pyngrok in /usr/local/lib/python3.10/dist-packages (7.2.1)\n",
            "Requirement already satisfied: pdfminer.six in /usr/local/lib/python3.10/dist-packages (20240706)\n",
            "Requirement already satisfied: Werkzeug>=2.2.2 in /usr/local/lib/python3.10/dist-packages (from flask) (3.0.6)\n",
            "Requirement already satisfied: Jinja2>=3.0 in /usr/local/lib/python3.10/dist-packages (from flask) (3.1.4)\n",
            "Requirement already satisfied: itsdangerous>=2.0 in /usr/local/lib/python3.10/dist-packages (from flask) (2.2.0)\n",
            "Requirement already satisfied: click>=8.0 in /usr/local/lib/python3.10/dist-packages (from flask) (8.1.7)\n",
            "Requirement already satisfied: python-socketio>=5.0.2 in /usr/local/lib/python3.10/dist-packages (from flask-socketio) (5.11.4)\n",
            "Requirement already satisfied: PyYAML>=5.1 in /usr/local/lib/python3.10/dist-packages (from pyngrok) (6.0.2)\n",
            "Requirement already satisfied: charset-normalizer>=2.0.0 in /usr/local/lib/python3.10/dist-packages (from pdfminer.six) (3.4.0)\n",
            "Requirement already satisfied: cryptography>=36.0.0 in /usr/local/lib/python3.10/dist-packages (from pdfminer.six) (43.0.3)\n",
            "Requirement already satisfied: cffi>=1.12 in /usr/local/lib/python3.10/dist-packages (from cryptography>=36.0.0->pdfminer.six) (1.17.1)\n",
            "Requirement already satisfied: MarkupSafe>=2.0 in /usr/local/lib/python3.10/dist-packages (from Jinja2>=3.0->flask) (3.0.2)\n",
            "Requirement already satisfied: bidict>=0.21.0 in /usr/local/lib/python3.10/dist-packages (from python-socketio>=5.0.2->flask-socketio) (0.23.1)\n",
            "Requirement already satisfied: python-engineio>=4.8.0 in /usr/local/lib/python3.10/dist-packages (from python-socketio>=5.0.2->flask-socketio) (4.10.1)\n",
            "Requirement already satisfied: pycparser in /usr/local/lib/python3.10/dist-packages (from cffi>=1.12->cryptography>=36.0.0->pdfminer.six) (2.22)\n",
            "Requirement already satisfied: simple-websocket>=0.10.0 in /usr/local/lib/python3.10/dist-packages (from python-engineio>=4.8.0->python-socketio>=5.0.2->flask-socketio) (1.1.0)\n",
            "Requirement already satisfied: wsproto in /usr/local/lib/python3.10/dist-packages (from simple-websocket>=0.10.0->python-engineio>=4.8.0->python-socketio>=5.0.2->flask-socketio) (1.2.0)\n",
            "Requirement already satisfied: h11<1,>=0.9.0 in /usr/local/lib/python3.10/dist-packages (from wsproto->simple-websocket>=0.10.0->python-engineio>=4.8.0->python-socketio>=5.0.2->flask-socketio) (0.14.0)\n"
          ]
        }
      ]
    },
    {
      "cell_type": "markdown",
      "source": [
        "##Step 2: Configure ngrok with Your Authtoken"
      ],
      "metadata": {
        "id": "wBDt_D6NX39Q"
      }
    },
    {
      "cell_type": "code",
      "source": [
        "!ngrok config add-authtoken 2ohlscwY8i3ScWTdWjwffURXGoC_5dkVKAXMieiaZHN16Ax6Z"
      ],
      "metadata": {
        "colab": {
          "base_uri": "https://localhost:8080/"
        },
        "id": "9MBvUojOFxjn",
        "outputId": "8c4d6d74-907d-4089-f628-75ac90591f3f"
      },
      "execution_count": 63,
      "outputs": [
        {
          "output_type": "stream",
          "name": "stdout",
          "text": [
            "Authtoken saved to configuration file: /root/.config/ngrok/ngrok.yml\n"
          ]
        }
      ]
    },
    {
      "cell_type": "code",
      "source": [
        "!pkill ngrok"
      ],
      "metadata": {
        "colab": {
          "base_uri": "https://localhost:8080/"
        },
        "id": "EhGKfaYdVCBP",
        "outputId": "79b3b96b-f229-46cb-eaca-879b254ce13b"
      },
      "execution_count": 64,
      "outputs": [
        {
          "output_type": "stream",
          "name": "stderr",
          "text": [
            "INFO:werkzeug:127.0.0.1 - - [11/Nov/2024 13:05:21] \"GET /socket.io/?EIO=4&transport=websocket&sid=6RmTUH6tbKrIfO37AAAA HTTP/1.1\" 200 -\n"
          ]
        }
      ]
    },
    {
      "cell_type": "markdown",
      "source": [
        "##Step 3: Create the Flask Server"
      ],
      "metadata": {
        "id": "PgUKUccRX9Rf"
      }
    },
    {
      "cell_type": "code",
      "source": [
        "import os\n",
        "from flask import Flask, render_template\n",
        "from flask_socketio import SocketIO, emit\n",
        "from pyngrok import ngrok\n",
        "\n",
        "# Initialize Flask app and SocketIO\n",
        "app = Flask(__name__)\n",
        "socketio = SocketIO(app)\n",
        "\n",
        "# Global variable to track the current PDF page\n",
        "current_page = 1\n",
        "\n",
        "# Expose the app via ngrok\n",
        "public_url = ngrok.connect(5001)\n",
        "print(f\"Public URL: {public_url}\")\n",
        "\n",
        "# Route to serve the HTML page\n",
        "@app.route('/')\n",
        "def index():\n",
        "    return render_template('index.html')\n",
        "\n",
        "# Admin changing page event\n",
        "@socketio.on('admin-change-page')\n",
        "def handle_admin_change_page(page):\n",
        "    global current_page\n",
        "    current_page = page\n",
        "    emit('page-change', page, broadcast=True)\n",
        "\n",
        "# Viewer changing page event\n",
        "@socketio.on('viewer-change-page')\n",
        "def handle_viewer_change_page(page):\n",
        "    emit('page-change', page, broadcast=True)\n",
        "\n",
        "# Start the server\n",
        "def run_server():\n",
        "    socketio.run(app, port=5000)\n"
      ],
      "metadata": {
        "colab": {
          "base_uri": "https://localhost:8080/"
        },
        "id": "VJB2P8wBF1WO",
        "outputId": "58fe8275-df67-479d-fcf6-f851dfd461cf"
      },
      "execution_count": 69,
      "outputs": [
        {
          "output_type": "stream",
          "name": "stdout",
          "text": [
            "Public URL: NgrokTunnel: \"https://50c4-104-196-226-1.ngrok-free.app\" -> \"http://localhost:5001\"\n"
          ]
        }
      ]
    },
    {
      "cell_type": "markdown",
      "source": [
        "##Step 4: Create HTML Template for Frontend"
      ],
      "metadata": {
        "id": "-Y16j3e1YEoD"
      }
    },
    {
      "cell_type": "code",
      "source": [
        "%%writefile templates/index.html\n",
        "<!DOCTYPE html>\n",
        "<html lang=\"en\">\n",
        "<head>\n",
        "    <meta charset=\"UTF-8\">\n",
        "    <title>PDF Co-Viewer</title>\n",
        "    <script src=\"https://cdnjs.cloudflare.com/ajax/libs/socket.io/4.7.2/socket.io.js\"></script>\n",
        "    <script src=\"https://mozilla.github.io/pdf.js/build/pdf.js\"></script>\n",
        "    <style>\n",
        "        #pdf-render {\n",
        "            border: 1px solid black;\n",
        "            width: 80%;\n",
        "            height: 500px;\n",
        "            margin: 20px auto;\n",
        "            overflow: auto;\n",
        "        }\n",
        "        .controls {\n",
        "            text-align: center;\n",
        "        }\n",
        "        button {\n",
        "            padding: 10px;\n",
        "            margin: 10px;\n",
        "        }\n",
        "    </style>\n",
        "</head>\n",
        "<body>\n",
        "    <h1 style=\"text-align:center;\">PDF Co-Viewer</h1>\n",
        "    <div id=\"pdf-render\"></div>\n",
        "    <div class=\"controls\">\n",
        "        <button onclick=\"changePage(-1)\">Previous</button>\n",
        "        <span id=\"page-info\">Page 1</span>\n",
        "        <button onclick=\"changePage(1)\">Next</button>\n",
        "    </div>\n",
        "\n",
        "    <script>\n",
        "        const socket = io.connect(window.location.origin);\n",
        "        let currentPage = 1;\n",
        "        const url = 'https://arxiv.org/pdf/1706.03762.pdf'; // Example PDF URL\n",
        "\n",
        "        const pdfjsLib = window['pdfjs-dist/build/pdf'];\n",
        "        pdfjsLib.GlobalWorkerOptions.workerSrc = '//mozilla.github.io/pdf.js/build/pdf.worker.js';\n",
        "\n",
        "        let pdfDoc = null;\n",
        "\n",
        "        // Load PDF\n",
        "        pdfjsLib.getDocument(url).promise.then(doc => {\n",
        "            pdfDoc = doc;\n",
        "            renderPage(currentPage);\n",
        "        });\n",
        "\n",
        "        // Render PDF Page\n",
        "        function renderPage(pageNum) {\n",
        "            pdfDoc.getPage(pageNum).then(page => {\n",
        "                const viewport = page.getViewport({ scale: 1.5 });\n",
        "                const canvas = document.createElement('canvas');\n",
        "                const ctx = canvas.getContext('2d');\n",
        "                canvas.height = viewport.height;\n",
        "                canvas.width = viewport.width;\n",
        "\n",
        "                const pdfContainer = document.getElementById('pdf-render');\n",
        "                pdfContainer.innerHTML = '';\n",
        "                pdfContainer.appendChild(canvas);\n",
        "\n",
        "                const renderContext = {\n",
        "                    canvasContext: ctx,\n",
        "                    viewport: viewport\n",
        "                };\n",
        "                page.render(renderContext);\n",
        "                document.getElementById('page-info').textContent = `Page ${pageNum} of ${pdfDoc.numPages}`;\n",
        "            });\n",
        "        }\n",
        "\n",
        "        // Change Page\n",
        "        function changePage(offset) {\n",
        "            const newPage = currentPage + offset;\n",
        "            if (newPage > 0 && newPage <= pdfDoc.numPages) {\n",
        "                currentPage = newPage;\n",
        "                renderPage(currentPage);\n",
        "                socket.emit('admin-change-page', currentPage);\n",
        "            }\n",
        "        }\n",
        "\n",
        "        // Listen for page changes\n",
        "        socket.on('page-change', (page) => {\n",
        "            currentPage = page;\n",
        "            renderPage(page);\n",
        "        });\n",
        "    </script>\n",
        "</body>\n",
        "</html>\n"
      ],
      "metadata": {
        "colab": {
          "base_uri": "https://localhost:8080/"
        },
        "id": "93d1KGtcMllT",
        "outputId": "3fc2444a-1215-4074-fae6-8fb72c74ed18"
      },
      "execution_count": 70,
      "outputs": [
        {
          "output_type": "stream",
          "name": "stdout",
          "text": [
            "Overwriting templates/index.html\n"
          ]
        }
      ]
    },
    {
      "cell_type": "markdown",
      "source": [
        "##Step 5: Start the Flask Server"
      ],
      "metadata": {
        "id": "p2-c7LIqYObK"
      }
    },
    {
      "cell_type": "code",
      "source": [
        "# Updated run_server function\n",
        "def run_server():\n",
        "    socketio.run(app, port=5001, allow_unsafe_werkzeug=True)\n",
        "\n",
        "# Start the Flask server with SocketIO in a non-blocking way\n",
        "import threading\n",
        "\n",
        "server_thread = threading.Thread(target=run_server)\n",
        "server_thread.start()\n",
        "\n"
      ],
      "metadata": {
        "colab": {
          "base_uri": "https://localhost:8080/"
        },
        "id": "Hx9Ych-UM_FK",
        "outputId": "b4f35819-9f34-4de4-e6d3-e65e6700bef5"
      },
      "execution_count": 71,
      "outputs": [
        {
          "output_type": "stream",
          "name": "stderr",
          "text": [
            "WARNING:werkzeug:Werkzeug appears to be used in a production deployment. Consider switching to a production web server instead.\n"
          ]
        },
        {
          "output_type": "stream",
          "name": "stdout",
          "text": [
            " * Serving Flask app '__main__'\n",
            " * Debug mode: off\n"
          ]
        },
        {
          "output_type": "stream",
          "name": "stderr",
          "text": [
            "INFO:werkzeug:\u001b[31m\u001b[1mWARNING: This is a development server. Do not use it in a production deployment. Use a production WSGI server instead.\u001b[0m\n",
            " * Running on http://127.0.0.1:5001\n",
            "INFO:werkzeug:\u001b[33mPress CTRL+C to quit\u001b[0m\n"
          ]
        }
      ]
    }
  ]
}